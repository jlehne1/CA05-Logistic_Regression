{
  "nbformat": 4,
  "nbformat_minor": 0,
  "metadata": {
    "colab": {
      "name": "CA05-Logistic_Regression-John_Lehne.ipynb",
      "provenance": [],
      "collapsed_sections": []
    },
    "kernelspec": {
      "name": "python3",
      "display_name": "Python 3"
    },
    "language_info": {
      "name": "python"
    }
  },
  "cells": [
    {
      "cell_type": "markdown",
      "source": [
        "## John Lehne\n",
        "## CA05"
      ],
      "metadata": {
        "id": "TpkQexI7d8FF"
      }
    },
    {
      "cell_type": "code",
      "execution_count": 2,
      "metadata": {
        "id": "-riQuRiUduFm"
      },
      "outputs": [],
      "source": [
        "# importing packages\n",
        "import pandas as pd\n",
        "import numpy as np\n",
        "import matplotlib.pyplot as plt"
      ]
    },
    {
      "cell_type": "code",
      "source": [
        "#read data using URL\n",
        "url = 'https://github.com/ArinB/CA05-B-Logistic-Regression/raw/master/cvd_data.csv' \n",
        "data = pd.read_csv(url, encoding = \"ISO-8859-1\")\n",
        "\n",
        "#making sure data was read correctly\n",
        "data.head()"
      ],
      "metadata": {
        "colab": {
          "base_uri": "https://localhost:8080/",
          "height": 250
        },
        "id": "yC7rqX4DeJEQ",
        "outputId": "403feb1f-7cc0-4eff-ac8a-46939d6ed8f7"
      },
      "execution_count": 3,
      "outputs": [
        {
          "output_type": "execute_result",
          "data": {
            "text/plain": [
              "   cvd_4types  age_s1  race  educat  mstat    hip  neck20  waist  \\\n",
              "0           0      54     1       2      1  110.0    40.0  108.0   \n",
              "1           0      56     3       2      1  113.0    34.0  107.0   \n",
              "2           0      54     1       3      1  110.0    44.5  105.0   \n",
              "3           0      54     1       3      1  129.0    42.5  110.0   \n",
              "4           0      51     3       2      1  122.0    37.0  113.0   \n",
              "\n",
              "   av_weight_kg  cgpkyr  tea15  srhype  parrptdiab  bend25  happy25  tired25  \\\n",
              "0          87.5    34.0      0       1           0       1        2        3   \n",
              "1          83.5     0.0      0       0           0       2        2        1   \n",
              "2          86.2    49.5      0       0           0       3        2        6   \n",
              "3          89.1     0.0      0       0           0       3        2        1   \n",
              "4          81.3     0.0      0       0           0       2        1        1   \n",
              "\n",
              "   hlthlm25  \n",
              "0         4  \n",
              "1         3  \n",
              "2         4  \n",
              "3         3  \n",
              "4         2  "
            ],
            "text/html": [
              "\n",
              "  <div id=\"df-e6306b49-b6ce-4016-b0d9-4ab4c1eacb71\">\n",
              "    <div class=\"colab-df-container\">\n",
              "      <div>\n",
              "<style scoped>\n",
              "    .dataframe tbody tr th:only-of-type {\n",
              "        vertical-align: middle;\n",
              "    }\n",
              "\n",
              "    .dataframe tbody tr th {\n",
              "        vertical-align: top;\n",
              "    }\n",
              "\n",
              "    .dataframe thead th {\n",
              "        text-align: right;\n",
              "    }\n",
              "</style>\n",
              "<table border=\"1\" class=\"dataframe\">\n",
              "  <thead>\n",
              "    <tr style=\"text-align: right;\">\n",
              "      <th></th>\n",
              "      <th>cvd_4types</th>\n",
              "      <th>age_s1</th>\n",
              "      <th>race</th>\n",
              "      <th>educat</th>\n",
              "      <th>mstat</th>\n",
              "      <th>hip</th>\n",
              "      <th>neck20</th>\n",
              "      <th>waist</th>\n",
              "      <th>av_weight_kg</th>\n",
              "      <th>cgpkyr</th>\n",
              "      <th>tea15</th>\n",
              "      <th>srhype</th>\n",
              "      <th>parrptdiab</th>\n",
              "      <th>bend25</th>\n",
              "      <th>happy25</th>\n",
              "      <th>tired25</th>\n",
              "      <th>hlthlm25</th>\n",
              "    </tr>\n",
              "  </thead>\n",
              "  <tbody>\n",
              "    <tr>\n",
              "      <th>0</th>\n",
              "      <td>0</td>\n",
              "      <td>54</td>\n",
              "      <td>1</td>\n",
              "      <td>2</td>\n",
              "      <td>1</td>\n",
              "      <td>110.0</td>\n",
              "      <td>40.0</td>\n",
              "      <td>108.0</td>\n",
              "      <td>87.5</td>\n",
              "      <td>34.0</td>\n",
              "      <td>0</td>\n",
              "      <td>1</td>\n",
              "      <td>0</td>\n",
              "      <td>1</td>\n",
              "      <td>2</td>\n",
              "      <td>3</td>\n",
              "      <td>4</td>\n",
              "    </tr>\n",
              "    <tr>\n",
              "      <th>1</th>\n",
              "      <td>0</td>\n",
              "      <td>56</td>\n",
              "      <td>3</td>\n",
              "      <td>2</td>\n",
              "      <td>1</td>\n",
              "      <td>113.0</td>\n",
              "      <td>34.0</td>\n",
              "      <td>107.0</td>\n",
              "      <td>83.5</td>\n",
              "      <td>0.0</td>\n",
              "      <td>0</td>\n",
              "      <td>0</td>\n",
              "      <td>0</td>\n",
              "      <td>2</td>\n",
              "      <td>2</td>\n",
              "      <td>1</td>\n",
              "      <td>3</td>\n",
              "    </tr>\n",
              "    <tr>\n",
              "      <th>2</th>\n",
              "      <td>0</td>\n",
              "      <td>54</td>\n",
              "      <td>1</td>\n",
              "      <td>3</td>\n",
              "      <td>1</td>\n",
              "      <td>110.0</td>\n",
              "      <td>44.5</td>\n",
              "      <td>105.0</td>\n",
              "      <td>86.2</td>\n",
              "      <td>49.5</td>\n",
              "      <td>0</td>\n",
              "      <td>0</td>\n",
              "      <td>0</td>\n",
              "      <td>3</td>\n",
              "      <td>2</td>\n",
              "      <td>6</td>\n",
              "      <td>4</td>\n",
              "    </tr>\n",
              "    <tr>\n",
              "      <th>3</th>\n",
              "      <td>0</td>\n",
              "      <td>54</td>\n",
              "      <td>1</td>\n",
              "      <td>3</td>\n",
              "      <td>1</td>\n",
              "      <td>129.0</td>\n",
              "      <td>42.5</td>\n",
              "      <td>110.0</td>\n",
              "      <td>89.1</td>\n",
              "      <td>0.0</td>\n",
              "      <td>0</td>\n",
              "      <td>0</td>\n",
              "      <td>0</td>\n",
              "      <td>3</td>\n",
              "      <td>2</td>\n",
              "      <td>1</td>\n",
              "      <td>3</td>\n",
              "    </tr>\n",
              "    <tr>\n",
              "      <th>4</th>\n",
              "      <td>0</td>\n",
              "      <td>51</td>\n",
              "      <td>3</td>\n",
              "      <td>2</td>\n",
              "      <td>1</td>\n",
              "      <td>122.0</td>\n",
              "      <td>37.0</td>\n",
              "      <td>113.0</td>\n",
              "      <td>81.3</td>\n",
              "      <td>0.0</td>\n",
              "      <td>0</td>\n",
              "      <td>0</td>\n",
              "      <td>0</td>\n",
              "      <td>2</td>\n",
              "      <td>1</td>\n",
              "      <td>1</td>\n",
              "      <td>2</td>\n",
              "    </tr>\n",
              "  </tbody>\n",
              "</table>\n",
              "</div>\n",
              "      <button class=\"colab-df-convert\" onclick=\"convertToInteractive('df-e6306b49-b6ce-4016-b0d9-4ab4c1eacb71')\"\n",
              "              title=\"Convert this dataframe to an interactive table.\"\n",
              "              style=\"display:none;\">\n",
              "        \n",
              "  <svg xmlns=\"http://www.w3.org/2000/svg\" height=\"24px\"viewBox=\"0 0 24 24\"\n",
              "       width=\"24px\">\n",
              "    <path d=\"M0 0h24v24H0V0z\" fill=\"none\"/>\n",
              "    <path d=\"M18.56 5.44l.94 2.06.94-2.06 2.06-.94-2.06-.94-.94-2.06-.94 2.06-2.06.94zm-11 1L8.5 8.5l.94-2.06 2.06-.94-2.06-.94L8.5 2.5l-.94 2.06-2.06.94zm10 10l.94 2.06.94-2.06 2.06-.94-2.06-.94-.94-2.06-.94 2.06-2.06.94z\"/><path d=\"M17.41 7.96l-1.37-1.37c-.4-.4-.92-.59-1.43-.59-.52 0-1.04.2-1.43.59L10.3 9.45l-7.72 7.72c-.78.78-.78 2.05 0 2.83L4 21.41c.39.39.9.59 1.41.59.51 0 1.02-.2 1.41-.59l7.78-7.78 2.81-2.81c.8-.78.8-2.07 0-2.86zM5.41 20L4 18.59l7.72-7.72 1.47 1.35L5.41 20z\"/>\n",
              "  </svg>\n",
              "      </button>\n",
              "      \n",
              "  <style>\n",
              "    .colab-df-container {\n",
              "      display:flex;\n",
              "      flex-wrap:wrap;\n",
              "      gap: 12px;\n",
              "    }\n",
              "\n",
              "    .colab-df-convert {\n",
              "      background-color: #E8F0FE;\n",
              "      border: none;\n",
              "      border-radius: 50%;\n",
              "      cursor: pointer;\n",
              "      display: none;\n",
              "      fill: #1967D2;\n",
              "      height: 32px;\n",
              "      padding: 0 0 0 0;\n",
              "      width: 32px;\n",
              "    }\n",
              "\n",
              "    .colab-df-convert:hover {\n",
              "      background-color: #E2EBFA;\n",
              "      box-shadow: 0px 1px 2px rgba(60, 64, 67, 0.3), 0px 1px 3px 1px rgba(60, 64, 67, 0.15);\n",
              "      fill: #174EA6;\n",
              "    }\n",
              "\n",
              "    [theme=dark] .colab-df-convert {\n",
              "      background-color: #3B4455;\n",
              "      fill: #D2E3FC;\n",
              "    }\n",
              "\n",
              "    [theme=dark] .colab-df-convert:hover {\n",
              "      background-color: #434B5C;\n",
              "      box-shadow: 0px 1px 3px 1px rgba(0, 0, 0, 0.15);\n",
              "      filter: drop-shadow(0px 1px 2px rgba(0, 0, 0, 0.3));\n",
              "      fill: #FFFFFF;\n",
              "    }\n",
              "  </style>\n",
              "\n",
              "      <script>\n",
              "        const buttonEl =\n",
              "          document.querySelector('#df-e6306b49-b6ce-4016-b0d9-4ab4c1eacb71 button.colab-df-convert');\n",
              "        buttonEl.style.display =\n",
              "          google.colab.kernel.accessAllowed ? 'block' : 'none';\n",
              "\n",
              "        async function convertToInteractive(key) {\n",
              "          const element = document.querySelector('#df-e6306b49-b6ce-4016-b0d9-4ab4c1eacb71');\n",
              "          const dataTable =\n",
              "            await google.colab.kernel.invokeFunction('convertToInteractive',\n",
              "                                                     [key], {});\n",
              "          if (!dataTable) return;\n",
              "\n",
              "          const docLinkHtml = 'Like what you see? Visit the ' +\n",
              "            '<a target=\"_blank\" href=https://colab.research.google.com/notebooks/data_table.ipynb>data table notebook</a>'\n",
              "            + ' to learn more about interactive tables.';\n",
              "          element.innerHTML = '';\n",
              "          dataTable['output_type'] = 'display_data';\n",
              "          await google.colab.output.renderOutput(dataTable, element);\n",
              "          const docLink = document.createElement('div');\n",
              "          docLink.innerHTML = docLinkHtml;\n",
              "          element.appendChild(docLink);\n",
              "        }\n",
              "      </script>\n",
              "    </div>\n",
              "  </div>\n",
              "  "
            ]
          },
          "metadata": {},
          "execution_count": 3
        }
      ]
    },
    {
      "cell_type": "markdown",
      "source": [
        "## Data Quality Analysis"
      ],
      "metadata": {
        "id": "Yxw6rz00hA2J"
      }
    },
    {
      "cell_type": "code",
      "source": [
        "# Number of total rows and columns\n",
        "data.shape"
      ],
      "metadata": {
        "colab": {
          "base_uri": "https://localhost:8080/"
        },
        "id": "vtDsTcjhhDWc",
        "outputId": "6cb04945-2599-4e03-bb4e-313615ca742f"
      },
      "execution_count": 4,
      "outputs": [
        {
          "output_type": "execute_result",
          "data": {
            "text/plain": [
              "(3242, 17)"
            ]
          },
          "metadata": {},
          "execution_count": 4
        }
      ]
    },
    {
      "cell_type": "code",
      "source": [
        "# Range, column, number of non-null objects, data type, memory usage\n",
        "data.info()"
      ],
      "metadata": {
        "colab": {
          "base_uri": "https://localhost:8080/"
        },
        "id": "3Eq-To8mhKTP",
        "outputId": "b91b6e6e-1323-4b44-f926-9f0683125719"
      },
      "execution_count": 5,
      "outputs": [
        {
          "output_type": "stream",
          "name": "stdout",
          "text": [
            "<class 'pandas.core.frame.DataFrame'>\n",
            "RangeIndex: 3242 entries, 0 to 3241\n",
            "Data columns (total 17 columns):\n",
            " #   Column        Non-Null Count  Dtype  \n",
            "---  ------        --------------  -----  \n",
            " 0   cvd_4types    3242 non-null   int64  \n",
            " 1   age_s1        3242 non-null   int64  \n",
            " 2   race          3242 non-null   int64  \n",
            " 3   educat        3242 non-null   int64  \n",
            " 4   mstat         3242 non-null   int64  \n",
            " 5   hip           3242 non-null   float64\n",
            " 6   neck20        3242 non-null   float64\n",
            " 7   waist         3242 non-null   float64\n",
            " 8   av_weight_kg  3242 non-null   float64\n",
            " 9   cgpkyr        3242 non-null   float64\n",
            " 10  tea15         3242 non-null   int64  \n",
            " 11  srhype        3242 non-null   int64  \n",
            " 12  parrptdiab    3242 non-null   int64  \n",
            " 13  bend25        3242 non-null   int64  \n",
            " 14  happy25       3242 non-null   int64  \n",
            " 15  tired25       3242 non-null   int64  \n",
            " 16  hlthlm25      3242 non-null   int64  \n",
            "dtypes: float64(5), int64(12)\n",
            "memory usage: 430.7 KB\n"
          ]
        }
      ]
    },
    {
      "cell_type": "code",
      "source": [
        "# Number of null values for each column\n",
        "data.isnull().sum()"
      ],
      "metadata": {
        "colab": {
          "base_uri": "https://localhost:8080/"
        },
        "id": "C1Kecjf-hEde",
        "outputId": "260c3d2b-b353-43d3-9803-caf368b3090a"
      },
      "execution_count": 6,
      "outputs": [
        {
          "output_type": "execute_result",
          "data": {
            "text/plain": [
              "cvd_4types      0\n",
              "age_s1          0\n",
              "race            0\n",
              "educat          0\n",
              "mstat           0\n",
              "hip             0\n",
              "neck20          0\n",
              "waist           0\n",
              "av_weight_kg    0\n",
              "cgpkyr          0\n",
              "tea15           0\n",
              "srhype          0\n",
              "parrptdiab      0\n",
              "bend25          0\n",
              "happy25         0\n",
              "tired25         0\n",
              "hlthlm25        0\n",
              "dtype: int64"
            ]
          },
          "metadata": {},
          "execution_count": 6
        }
      ]
    },
    {
      "cell_type": "code",
      "source": [
        "# Descriptive statistics for the dataset\n",
        "data.describe()"
      ],
      "metadata": {
        "colab": {
          "base_uri": "https://localhost:8080/",
          "height": 364
        },
        "id": "4u0dnIHvhOQe",
        "outputId": "08a08f4b-f740-4bda-ce18-1b1fc8fea5b3"
      },
      "execution_count": 7,
      "outputs": [
        {
          "output_type": "execute_result",
          "data": {
            "text/plain": [
              "        cvd_4types       age_s1         race       educat        mstat  \\\n",
              "count  3242.000000  3242.000000  3242.000000  3242.000000  3242.000000   \n",
              "mean      0.590068    64.828809     1.094695     2.326342     1.368600   \n",
              "std       0.491897    10.400496     0.358237     0.697934     0.933871   \n",
              "min       0.000000    39.000000     1.000000     1.000000     1.000000   \n",
              "25%       0.000000    57.000000     1.000000     2.000000     1.000000   \n",
              "50%       1.000000    65.000000     1.000000     2.000000     1.000000   \n",
              "75%       1.000000    73.000000     1.000000     3.000000     1.000000   \n",
              "max       1.000000    90.000000     3.000000     4.000000     8.000000   \n",
              "\n",
              "               hip       neck20        waist  av_weight_kg       cgpkyr  \\\n",
              "count  3242.000000  3242.000000  3242.000000   3242.000000  3242.000000   \n",
              "mean    105.404832    37.550719    97.209904     82.945928    12.904010   \n",
              "std      10.280402     4.101003    13.598060      7.849650    20.156736   \n",
              "min      44.000000    25.000000    67.000000     57.400000     0.000000   \n",
              "25%      99.000000    34.425000    88.000000     78.200000     0.000000   \n",
              "50%     104.000000    37.150000    97.000000     82.550000     0.300000   \n",
              "75%     110.000000    40.500000   106.000000     86.575000    20.475000   \n",
              "max     168.000000    53.000000   135.000000    136.700000   170.500000   \n",
              "\n",
              "             tea15       srhype   parrptdiab       bend25      happy25  \\\n",
              "count  3242.000000  3242.000000  3242.000000  3242.000000  3242.000000   \n",
              "mean      0.430907     0.327884     0.067551     2.473782     2.281308   \n",
              "std       1.242444     0.469515     0.251012     0.672158     0.951695   \n",
              "min       0.000000     0.000000     0.000000     1.000000     1.000000   \n",
              "25%       0.000000     0.000000     0.000000     2.000000     2.000000   \n",
              "50%       0.000000     0.000000     0.000000     3.000000     2.000000   \n",
              "75%       0.000000     1.000000     0.000000     3.000000     3.000000   \n",
              "max      30.000000     1.000000     1.000000     3.000000     6.000000   \n",
              "\n",
              "           tired25     hlthlm25  \n",
              "count  3242.000000  3242.000000  \n",
              "mean      4.292721     3.864898  \n",
              "std       1.021099     0.614247  \n",
              "min       1.000000     1.000000  \n",
              "25%       4.000000     4.000000  \n",
              "50%       4.000000     4.000000  \n",
              "75%       5.000000     4.000000  \n",
              "max       6.000000     5.000000  "
            ],
            "text/html": [
              "\n",
              "  <div id=\"df-91cbfa21-7d89-43a8-bc45-0c4c6a669a41\">\n",
              "    <div class=\"colab-df-container\">\n",
              "      <div>\n",
              "<style scoped>\n",
              "    .dataframe tbody tr th:only-of-type {\n",
              "        vertical-align: middle;\n",
              "    }\n",
              "\n",
              "    .dataframe tbody tr th {\n",
              "        vertical-align: top;\n",
              "    }\n",
              "\n",
              "    .dataframe thead th {\n",
              "        text-align: right;\n",
              "    }\n",
              "</style>\n",
              "<table border=\"1\" class=\"dataframe\">\n",
              "  <thead>\n",
              "    <tr style=\"text-align: right;\">\n",
              "      <th></th>\n",
              "      <th>cvd_4types</th>\n",
              "      <th>age_s1</th>\n",
              "      <th>race</th>\n",
              "      <th>educat</th>\n",
              "      <th>mstat</th>\n",
              "      <th>hip</th>\n",
              "      <th>neck20</th>\n",
              "      <th>waist</th>\n",
              "      <th>av_weight_kg</th>\n",
              "      <th>cgpkyr</th>\n",
              "      <th>tea15</th>\n",
              "      <th>srhype</th>\n",
              "      <th>parrptdiab</th>\n",
              "      <th>bend25</th>\n",
              "      <th>happy25</th>\n",
              "      <th>tired25</th>\n",
              "      <th>hlthlm25</th>\n",
              "    </tr>\n",
              "  </thead>\n",
              "  <tbody>\n",
              "    <tr>\n",
              "      <th>count</th>\n",
              "      <td>3242.000000</td>\n",
              "      <td>3242.000000</td>\n",
              "      <td>3242.000000</td>\n",
              "      <td>3242.000000</td>\n",
              "      <td>3242.000000</td>\n",
              "      <td>3242.000000</td>\n",
              "      <td>3242.000000</td>\n",
              "      <td>3242.000000</td>\n",
              "      <td>3242.000000</td>\n",
              "      <td>3242.000000</td>\n",
              "      <td>3242.000000</td>\n",
              "      <td>3242.000000</td>\n",
              "      <td>3242.000000</td>\n",
              "      <td>3242.000000</td>\n",
              "      <td>3242.000000</td>\n",
              "      <td>3242.000000</td>\n",
              "      <td>3242.000000</td>\n",
              "    </tr>\n",
              "    <tr>\n",
              "      <th>mean</th>\n",
              "      <td>0.590068</td>\n",
              "      <td>64.828809</td>\n",
              "      <td>1.094695</td>\n",
              "      <td>2.326342</td>\n",
              "      <td>1.368600</td>\n",
              "      <td>105.404832</td>\n",
              "      <td>37.550719</td>\n",
              "      <td>97.209904</td>\n",
              "      <td>82.945928</td>\n",
              "      <td>12.904010</td>\n",
              "      <td>0.430907</td>\n",
              "      <td>0.327884</td>\n",
              "      <td>0.067551</td>\n",
              "      <td>2.473782</td>\n",
              "      <td>2.281308</td>\n",
              "      <td>4.292721</td>\n",
              "      <td>3.864898</td>\n",
              "    </tr>\n",
              "    <tr>\n",
              "      <th>std</th>\n",
              "      <td>0.491897</td>\n",
              "      <td>10.400496</td>\n",
              "      <td>0.358237</td>\n",
              "      <td>0.697934</td>\n",
              "      <td>0.933871</td>\n",
              "      <td>10.280402</td>\n",
              "      <td>4.101003</td>\n",
              "      <td>13.598060</td>\n",
              "      <td>7.849650</td>\n",
              "      <td>20.156736</td>\n",
              "      <td>1.242444</td>\n",
              "      <td>0.469515</td>\n",
              "      <td>0.251012</td>\n",
              "      <td>0.672158</td>\n",
              "      <td>0.951695</td>\n",
              "      <td>1.021099</td>\n",
              "      <td>0.614247</td>\n",
              "    </tr>\n",
              "    <tr>\n",
              "      <th>min</th>\n",
              "      <td>0.000000</td>\n",
              "      <td>39.000000</td>\n",
              "      <td>1.000000</td>\n",
              "      <td>1.000000</td>\n",
              "      <td>1.000000</td>\n",
              "      <td>44.000000</td>\n",
              "      <td>25.000000</td>\n",
              "      <td>67.000000</td>\n",
              "      <td>57.400000</td>\n",
              "      <td>0.000000</td>\n",
              "      <td>0.000000</td>\n",
              "      <td>0.000000</td>\n",
              "      <td>0.000000</td>\n",
              "      <td>1.000000</td>\n",
              "      <td>1.000000</td>\n",
              "      <td>1.000000</td>\n",
              "      <td>1.000000</td>\n",
              "    </tr>\n",
              "    <tr>\n",
              "      <th>25%</th>\n",
              "      <td>0.000000</td>\n",
              "      <td>57.000000</td>\n",
              "      <td>1.000000</td>\n",
              "      <td>2.000000</td>\n",
              "      <td>1.000000</td>\n",
              "      <td>99.000000</td>\n",
              "      <td>34.425000</td>\n",
              "      <td>88.000000</td>\n",
              "      <td>78.200000</td>\n",
              "      <td>0.000000</td>\n",
              "      <td>0.000000</td>\n",
              "      <td>0.000000</td>\n",
              "      <td>0.000000</td>\n",
              "      <td>2.000000</td>\n",
              "      <td>2.000000</td>\n",
              "      <td>4.000000</td>\n",
              "      <td>4.000000</td>\n",
              "    </tr>\n",
              "    <tr>\n",
              "      <th>50%</th>\n",
              "      <td>1.000000</td>\n",
              "      <td>65.000000</td>\n",
              "      <td>1.000000</td>\n",
              "      <td>2.000000</td>\n",
              "      <td>1.000000</td>\n",
              "      <td>104.000000</td>\n",
              "      <td>37.150000</td>\n",
              "      <td>97.000000</td>\n",
              "      <td>82.550000</td>\n",
              "      <td>0.300000</td>\n",
              "      <td>0.000000</td>\n",
              "      <td>0.000000</td>\n",
              "      <td>0.000000</td>\n",
              "      <td>3.000000</td>\n",
              "      <td>2.000000</td>\n",
              "      <td>4.000000</td>\n",
              "      <td>4.000000</td>\n",
              "    </tr>\n",
              "    <tr>\n",
              "      <th>75%</th>\n",
              "      <td>1.000000</td>\n",
              "      <td>73.000000</td>\n",
              "      <td>1.000000</td>\n",
              "      <td>3.000000</td>\n",
              "      <td>1.000000</td>\n",
              "      <td>110.000000</td>\n",
              "      <td>40.500000</td>\n",
              "      <td>106.000000</td>\n",
              "      <td>86.575000</td>\n",
              "      <td>20.475000</td>\n",
              "      <td>0.000000</td>\n",
              "      <td>1.000000</td>\n",
              "      <td>0.000000</td>\n",
              "      <td>3.000000</td>\n",
              "      <td>3.000000</td>\n",
              "      <td>5.000000</td>\n",
              "      <td>4.000000</td>\n",
              "    </tr>\n",
              "    <tr>\n",
              "      <th>max</th>\n",
              "      <td>1.000000</td>\n",
              "      <td>90.000000</td>\n",
              "      <td>3.000000</td>\n",
              "      <td>4.000000</td>\n",
              "      <td>8.000000</td>\n",
              "      <td>168.000000</td>\n",
              "      <td>53.000000</td>\n",
              "      <td>135.000000</td>\n",
              "      <td>136.700000</td>\n",
              "      <td>170.500000</td>\n",
              "      <td>30.000000</td>\n",
              "      <td>1.000000</td>\n",
              "      <td>1.000000</td>\n",
              "      <td>3.000000</td>\n",
              "      <td>6.000000</td>\n",
              "      <td>6.000000</td>\n",
              "      <td>5.000000</td>\n",
              "    </tr>\n",
              "  </tbody>\n",
              "</table>\n",
              "</div>\n",
              "      <button class=\"colab-df-convert\" onclick=\"convertToInteractive('df-91cbfa21-7d89-43a8-bc45-0c4c6a669a41')\"\n",
              "              title=\"Convert this dataframe to an interactive table.\"\n",
              "              style=\"display:none;\">\n",
              "        \n",
              "  <svg xmlns=\"http://www.w3.org/2000/svg\" height=\"24px\"viewBox=\"0 0 24 24\"\n",
              "       width=\"24px\">\n",
              "    <path d=\"M0 0h24v24H0V0z\" fill=\"none\"/>\n",
              "    <path d=\"M18.56 5.44l.94 2.06.94-2.06 2.06-.94-2.06-.94-.94-2.06-.94 2.06-2.06.94zm-11 1L8.5 8.5l.94-2.06 2.06-.94-2.06-.94L8.5 2.5l-.94 2.06-2.06.94zm10 10l.94 2.06.94-2.06 2.06-.94-2.06-.94-.94-2.06-.94 2.06-2.06.94z\"/><path d=\"M17.41 7.96l-1.37-1.37c-.4-.4-.92-.59-1.43-.59-.52 0-1.04.2-1.43.59L10.3 9.45l-7.72 7.72c-.78.78-.78 2.05 0 2.83L4 21.41c.39.39.9.59 1.41.59.51 0 1.02-.2 1.41-.59l7.78-7.78 2.81-2.81c.8-.78.8-2.07 0-2.86zM5.41 20L4 18.59l7.72-7.72 1.47 1.35L5.41 20z\"/>\n",
              "  </svg>\n",
              "      </button>\n",
              "      \n",
              "  <style>\n",
              "    .colab-df-container {\n",
              "      display:flex;\n",
              "      flex-wrap:wrap;\n",
              "      gap: 12px;\n",
              "    }\n",
              "\n",
              "    .colab-df-convert {\n",
              "      background-color: #E8F0FE;\n",
              "      border: none;\n",
              "      border-radius: 50%;\n",
              "      cursor: pointer;\n",
              "      display: none;\n",
              "      fill: #1967D2;\n",
              "      height: 32px;\n",
              "      padding: 0 0 0 0;\n",
              "      width: 32px;\n",
              "    }\n",
              "\n",
              "    .colab-df-convert:hover {\n",
              "      background-color: #E2EBFA;\n",
              "      box-shadow: 0px 1px 2px rgba(60, 64, 67, 0.3), 0px 1px 3px 1px rgba(60, 64, 67, 0.15);\n",
              "      fill: #174EA6;\n",
              "    }\n",
              "\n",
              "    [theme=dark] .colab-df-convert {\n",
              "      background-color: #3B4455;\n",
              "      fill: #D2E3FC;\n",
              "    }\n",
              "\n",
              "    [theme=dark] .colab-df-convert:hover {\n",
              "      background-color: #434B5C;\n",
              "      box-shadow: 0px 1px 3px 1px rgba(0, 0, 0, 0.15);\n",
              "      filter: drop-shadow(0px 1px 2px rgba(0, 0, 0, 0.3));\n",
              "      fill: #FFFFFF;\n",
              "    }\n",
              "  </style>\n",
              "\n",
              "      <script>\n",
              "        const buttonEl =\n",
              "          document.querySelector('#df-91cbfa21-7d89-43a8-bc45-0c4c6a669a41 button.colab-df-convert');\n",
              "        buttonEl.style.display =\n",
              "          google.colab.kernel.accessAllowed ? 'block' : 'none';\n",
              "\n",
              "        async function convertToInteractive(key) {\n",
              "          const element = document.querySelector('#df-91cbfa21-7d89-43a8-bc45-0c4c6a669a41');\n",
              "          const dataTable =\n",
              "            await google.colab.kernel.invokeFunction('convertToInteractive',\n",
              "                                                     [key], {});\n",
              "          if (!dataTable) return;\n",
              "\n",
              "          const docLinkHtml = 'Like what you see? Visit the ' +\n",
              "            '<a target=\"_blank\" href=https://colab.research.google.com/notebooks/data_table.ipynb>data table notebook</a>'\n",
              "            + ' to learn more about interactive tables.';\n",
              "          element.innerHTML = '';\n",
              "          dataTable['output_type'] = 'display_data';\n",
              "          await google.colab.output.renderOutput(dataTable, element);\n",
              "          const docLink = document.createElement('div');\n",
              "          docLink.innerHTML = docLinkHtml;\n",
              "          element.appendChild(docLink);\n",
              "        }\n",
              "      </script>\n",
              "    </div>\n",
              "  </div>\n",
              "  "
            ]
          },
          "metadata": {},
          "execution_count": 7
        }
      ]
    },
    {
      "cell_type": "markdown",
      "source": [
        "## Splitting Data into Train and Test"
      ],
      "metadata": {
        "id": "4c4cjqrlj9Kv"
      }
    },
    {
      "cell_type": "code",
      "source": [
        "# importing scikit.learn to use test_train_split function\n",
        "from sklearn.model_selection import train_test_split"
      ],
      "metadata": {
        "id": "786E7uFjkAfq"
      },
      "execution_count": 8,
      "outputs": []
    },
    {
      "cell_type": "code",
      "source": [
        "# isolating the label data that will be used to train and test model\n",
        "y_data = data['cvd_4types']\n",
        "\n",
        "# isolating the feature data that will be used to train and test model\n",
        "x_data = data.iloc[ : , 1: ]\n",
        "\n",
        "# Splitting that data into test and train datasets\n",
        "x_train, x_test = train_test_split(x_data, test_size = 0.3, random_state = 19)\n",
        "# Doing the same split for y_labels\n",
        "y_train, y_test = train_test_split(y_data, test_size = 0.3, random_state = 19)\n",
        "\n",
        "# Seeing structure of test and train data\n",
        "print('x_train:', x_train.shape)\n",
        "print('x_test:', x_test.shape)\n",
        "print('y_train:', y_train.shape)\n",
        "print('y_test:', y_test.shape)"
      ],
      "metadata": {
        "colab": {
          "base_uri": "https://localhost:8080/"
        },
        "id": "Js6j2iDTkq3T",
        "outputId": "e6033302-cefb-4f81-dbc6-486c2ac2989d"
      },
      "execution_count": 9,
      "outputs": [
        {
          "output_type": "stream",
          "name": "stdout",
          "text": [
            "x_train: (2269, 16)\n",
            "x_test: (973, 16)\n",
            "y_train: (2269,)\n",
            "y_test: (973,)\n"
          ]
        }
      ]
    },
    {
      "cell_type": "markdown",
      "source": [
        "## Logistic Regression Modeling"
      ],
      "metadata": {
        "id": "SRpboqsVlYWf"
      }
    },
    {
      "cell_type": "code",
      "source": [
        "# importing necessary packages from Sklearn\n",
        "from sklearn import linear_model"
      ],
      "metadata": {
        "id": "xt10tnhwlbCa"
      },
      "execution_count": 10,
      "outputs": []
    },
    {
      "cell_type": "code",
      "source": [
        "# train the model\n",
        "lrm = linear_model.LogisticRegression(C = 1e50, solver = 'newton-cg')\n",
        "\n",
        "# fitting the model\n",
        "lrm.fit(x_train, y_train)\n",
        "\n",
        "# testing the model\n",
        "y_pred = lrm.predict(x_test)"
      ],
      "metadata": {
        "id": "6omgGfW5wUdf"
      },
      "execution_count": 11,
      "outputs": []
    },
    {
      "cell_type": "code",
      "source": [
        "# Performance of the model\n",
        "# importing necessary packages\n",
        "from sklearn.metrics import roc_auc_score\n",
        "from sklearn.metrics import f1_score\n",
        "from sklearn.metrics import roc_curve\n",
        "from sklearn import metrics\n",
        "\n",
        "#AUC Score\n",
        "auc_score = roc_auc_score(y_test, y_pred)\n",
        "# F1 Score\n",
        "F1 = f1_score(y_test, y_pred)\n",
        "\n",
        "print('auc_score:', auc_score)\n",
        "print('F1_Score:', F1)"
      ],
      "metadata": {
        "colab": {
          "base_uri": "https://localhost:8080/"
        },
        "id": "NGrtf-jf4ajL",
        "outputId": "8433a095-1588-4b85-8aa1-c687656effc2"
      },
      "execution_count": 32,
      "outputs": [
        {
          "output_type": "stream",
          "name": "stdout",
          "text": [
            "auc_score: 0.671440601114134\n",
            "F1_Score: 0.761519805982215\n"
          ]
        }
      ]
    },
    {
      "cell_type": "markdown",
      "source": [
        "## Feature Importance"
      ],
      "metadata": {
        "id": "TONbDzedabxK"
      }
    },
    {
      "cell_type": "code",
      "source": [
        "# Creating standardized coefficents to examine Feature Importance\n",
        "std_coef = np.std(x_train, 0) * lrm.coef_[0]\n",
        "# Sorting values to see what features have the strongest importance and showing results\n",
        "print('Feature Importance to CVD Risk in Descending Order:')\n",
        "print(std_coef.sort_values(ascending = False))"
      ],
      "metadata": {
        "colab": {
          "base_uri": "https://localhost:8080/"
        },
        "id": "VlqqApAeV8eB",
        "outputId": "363beace-67d2-4f03-9375-ee6cfadf6e36"
      },
      "execution_count": 35,
      "outputs": [
        {
          "output_type": "stream",
          "name": "stdout",
          "text": [
            "Feature Importance to CVD Risk in Descending Order:\n",
            "waist           1.113160\n",
            "parrptdiab      0.169593\n",
            "educat          0.166085\n",
            "tired25         0.117714\n",
            "bend25          0.094512\n",
            "srhype          0.074003\n",
            "age_s1          0.041495\n",
            "cgpkyr          0.002598\n",
            "happy25        -0.062470\n",
            "tea15          -0.069626\n",
            "mstat          -0.145479\n",
            "neck20         -0.178924\n",
            "av_weight_kg   -0.245170\n",
            "hlthlm25       -0.355062\n",
            "race           -0.366201\n",
            "hip            -0.566518\n",
            "dtype: float64\n"
          ]
        }
      ]
    },
    {
      "cell_type": "markdown",
      "source": [
        "## Model Performance"
      ],
      "metadata": {
        "id": "W5fAfPkNXtDs"
      }
    },
    {
      "cell_type": "code",
      "source": [
        "#AUC Score\n",
        "auc_score = roc_auc_score(y_test, y_pred)\n",
        "# F1 Score\n",
        "F1 = f1_score(y_test, y_pred)\n",
        "\n",
        "print('auc_score:', auc_score)\n",
        "print('F1_Score:', F1)\n",
        "\n",
        "# Creating points for ROC Curve\n",
        "fpr, tpr, threshold = roc_curve(y_test, y_pred)\n",
        "# Setting AUC to a variable\n",
        "auc_score = metrics.auc(fpr, tpr)\n",
        "# Plotting the ROC Curve and returning a visualization\n",
        "display = metrics.RocCurveDisplay(fpr = fpr, tpr = tpr, roc_auc = auc_score)\n",
        "display.plot()\n",
        "plt.show()"
      ],
      "metadata": {
        "colab": {
          "base_uri": "https://localhost:8080/",
          "height": 314
        },
        "id": "HurpMcxoXsn0",
        "outputId": "506d901c-0b26-4258-c10d-5ff10942176e"
      },
      "execution_count": 33,
      "outputs": [
        {
          "output_type": "stream",
          "name": "stdout",
          "text": [
            "auc_score: 0.671440601114134\n",
            "F1_Score: 0.761519805982215\n"
          ]
        },
        {
          "output_type": "display_data",
          "data": {
            "text/plain": [
              "<Figure size 432x288 with 1 Axes>"
            ],
            "image/png": "[encoded data removed]"
          },
          "metadata": {
            "needs_background": "light"
          }
        }
      ]
    },
    {
      "cell_type": "markdown",
      "source": [
        "Per the requirements, an ROC curve was created showcasing the AUC.  The AUC is at .67, which is a strong AUC score and suggests that the model has a good predictive nature.  If the AUC was .5 or lower, then the model would be poor performing and making random predictions.  Another performance metric looked at is F1 score.  This metric showcases the balance of Precision and Recall, in which a high balance would suggest a strong performing model.  The F1 score achieved of .76 suggest that the model is well balanced and a strong performer.  "
      ],
      "metadata": {
        "id": "UkbIpytJbDbg"
      }
    }
  ]
}